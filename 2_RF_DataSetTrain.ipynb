{
  "nbformat": 4,
  "nbformat_minor": 0,
  "metadata": {
    "colab": {
      "provenance": [],
      "authorship_tag": "ABX9TyMAXEK0XBff0OsEueNS+tVm",
      "include_colab_link": true
    },
    "kernelspec": {
      "name": "python3",
      "display_name": "Python 3"
    },
    "language_info": {
      "name": "python"
    },
    "widgets": {
      "application/vnd.jupyter.widget-state+json": {
        "2e9e5bd5e57d4c51bda23de347f1417e": {
          "model_module": "@jupyter-widgets/controls",
          "model_name": "VBoxModel",
          "model_module_version": "1.5.0",
          "state": {
            "_dom_classes": [],
            "_model_module": "@jupyter-widgets/controls",
            "_model_module_version": "1.5.0",
            "_model_name": "VBoxModel",
            "_view_count": null,
            "_view_module": "@jupyter-widgets/controls",
            "_view_module_version": "1.5.0",
            "_view_name": "VBoxView",
            "box_style": "",
            "children": [
              "IPY_MODEL_e58aad7504894904b34385991d65d176",
              "IPY_MODEL_791199c59aa64225b5cca3b542ae91a7"
            ],
            "layout": "IPY_MODEL_96ad63da3f0440ec8eb72a48d3e33d9f"
          }
        },
        "e58aad7504894904b34385991d65d176": {
          "model_module": "@jupyter-widgets/controls",
          "model_name": "LabelModel",
          "model_module_version": "1.5.0",
          "state": {
            "_dom_classes": [],
            "_model_module": "@jupyter-widgets/controls",
            "_model_module_version": "1.5.0",
            "_model_name": "LabelModel",
            "_view_count": null,
            "_view_module": "@jupyter-widgets/controls",
            "_view_module_version": "1.5.0",
            "_view_name": "LabelView",
            "description": "",
            "description_tooltip": null,
            "layout": "IPY_MODEL_552cc36e70ee413db33a5469d446ddf0",
            "placeholder": "​",
            "style": "IPY_MODEL_e30cd88248f14e7a9417b922e84cfddb",
            "value": "0.026 MB of 0.026 MB uploaded\r"
          }
        },
        "791199c59aa64225b5cca3b542ae91a7": {
          "model_module": "@jupyter-widgets/controls",
          "model_name": "FloatProgressModel",
          "model_module_version": "1.5.0",
          "state": {
            "_dom_classes": [],
            "_model_module": "@jupyter-widgets/controls",
            "_model_module_version": "1.5.0",
            "_model_name": "FloatProgressModel",
            "_view_count": null,
            "_view_module": "@jupyter-widgets/controls",
            "_view_module_version": "1.5.0",
            "_view_name": "ProgressView",
            "bar_style": "",
            "description": "",
            "description_tooltip": null,
            "layout": "IPY_MODEL_a80209068e4241ea834bbb8f01c503b3",
            "max": 1,
            "min": 0,
            "orientation": "horizontal",
            "style": "IPY_MODEL_a477bc7f172d4eb1ac2881716ba18b12",
            "value": 1
          }
        },
        "96ad63da3f0440ec8eb72a48d3e33d9f": {
          "model_module": "@jupyter-widgets/base",
          "model_name": "LayoutModel",
          "model_module_version": "1.2.0",
          "state": {
            "_model_module": "@jupyter-widgets/base",
            "_model_module_version": "1.2.0",
            "_model_name": "LayoutModel",
            "_view_count": null,
            "_view_module": "@jupyter-widgets/base",
            "_view_module_version": "1.2.0",
            "_view_name": "LayoutView",
            "align_content": null,
            "align_items": null,
            "align_self": null,
            "border": null,
            "bottom": null,
            "display": null,
            "flex": null,
            "flex_flow": null,
            "grid_area": null,
            "grid_auto_columns": null,
            "grid_auto_flow": null,
            "grid_auto_rows": null,
            "grid_column": null,
            "grid_gap": null,
            "grid_row": null,
            "grid_template_areas": null,
            "grid_template_columns": null,
            "grid_template_rows": null,
            "height": null,
            "justify_content": null,
            "justify_items": null,
            "left": null,
            "margin": null,
            "max_height": null,
            "max_width": null,
            "min_height": null,
            "min_width": null,
            "object_fit": null,
            "object_position": null,
            "order": null,
            "overflow": null,
            "overflow_x": null,
            "overflow_y": null,
            "padding": null,
            "right": null,
            "top": null,
            "visibility": null,
            "width": null
          }
        },
        "552cc36e70ee413db33a5469d446ddf0": {
          "model_module": "@jupyter-widgets/base",
          "model_name": "LayoutModel",
          "model_module_version": "1.2.0",
          "state": {
            "_model_module": "@jupyter-widgets/base",
            "_model_module_version": "1.2.0",
            "_model_name": "LayoutModel",
            "_view_count": null,
            "_view_module": "@jupyter-widgets/base",
            "_view_module_version": "1.2.0",
            "_view_name": "LayoutView",
            "align_content": null,
            "align_items": null,
            "align_self": null,
            "border": null,
            "bottom": null,
            "display": null,
            "flex": null,
            "flex_flow": null,
            "grid_area": null,
            "grid_auto_columns": null,
            "grid_auto_flow": null,
            "grid_auto_rows": null,
            "grid_column": null,
            "grid_gap": null,
            "grid_row": null,
            "grid_template_areas": null,
            "grid_template_columns": null,
            "grid_template_rows": null,
            "height": null,
            "justify_content": null,
            "justify_items": null,
            "left": null,
            "margin": null,
            "max_height": null,
            "max_width": null,
            "min_height": null,
            "min_width": null,
            "object_fit": null,
            "object_position": null,
            "order": null,
            "overflow": null,
            "overflow_x": null,
            "overflow_y": null,
            "padding": null,
            "right": null,
            "top": null,
            "visibility": null,
            "width": null
          }
        },
        "e30cd88248f14e7a9417b922e84cfddb": {
          "model_module": "@jupyter-widgets/controls",
          "model_name": "DescriptionStyleModel",
          "model_module_version": "1.5.0",
          "state": {
            "_model_module": "@jupyter-widgets/controls",
            "_model_module_version": "1.5.0",
            "_model_name": "DescriptionStyleModel",
            "_view_count": null,
            "_view_module": "@jupyter-widgets/base",
            "_view_module_version": "1.2.0",
            "_view_name": "StyleView",
            "description_width": ""
          }
        },
        "a80209068e4241ea834bbb8f01c503b3": {
          "model_module": "@jupyter-widgets/base",
          "model_name": "LayoutModel",
          "model_module_version": "1.2.0",
          "state": {
            "_model_module": "@jupyter-widgets/base",
            "_model_module_version": "1.2.0",
            "_model_name": "LayoutModel",
            "_view_count": null,
            "_view_module": "@jupyter-widgets/base",
            "_view_module_version": "1.2.0",
            "_view_name": "LayoutView",
            "align_content": null,
            "align_items": null,
            "align_self": null,
            "border": null,
            "bottom": null,
            "display": null,
            "flex": null,
            "flex_flow": null,
            "grid_area": null,
            "grid_auto_columns": null,
            "grid_auto_flow": null,
            "grid_auto_rows": null,
            "grid_column": null,
            "grid_gap": null,
            "grid_row": null,
            "grid_template_areas": null,
            "grid_template_columns": null,
            "grid_template_rows": null,
            "height": null,
            "justify_content": null,
            "justify_items": null,
            "left": null,
            "margin": null,
            "max_height": null,
            "max_width": null,
            "min_height": null,
            "min_width": null,
            "object_fit": null,
            "object_position": null,
            "order": null,
            "overflow": null,
            "overflow_x": null,
            "overflow_y": null,
            "padding": null,
            "right": null,
            "top": null,
            "visibility": null,
            "width": null
          }
        },
        "a477bc7f172d4eb1ac2881716ba18b12": {
          "model_module": "@jupyter-widgets/controls",
          "model_name": "ProgressStyleModel",
          "model_module_version": "1.5.0",
          "state": {
            "_model_module": "@jupyter-widgets/controls",
            "_model_module_version": "1.5.0",
            "_model_name": "ProgressStyleModel",
            "_view_count": null,
            "_view_module": "@jupyter-widgets/base",
            "_view_module_version": "1.2.0",
            "_view_name": "StyleView",
            "bar_color": null,
            "description_width": ""
          }
        }
      }
    }
  },
  "cells": [
    {
      "cell_type": "markdown",
      "metadata": {
        "id": "view-in-github",
        "colab_type": "text"
      },
      "source": [
        "<a href=\"https://colab.research.google.com/github/Eduard25/Redes/blob/master/2_RF_DataSetTrain.ipynb\" target=\"_parent\"><img src=\"https://colab.research.google.com/assets/colab-badge.svg\" alt=\"Open In Colab\"/></a>"
      ]
    },
    {
      "cell_type": "code",
      "execution_count": 1,
      "metadata": {
        "id": "k550o4ua8okB"
      },
      "outputs": [],
      "source": [
        "import tensorflow as tf\n",
        "import pathlib\n",
        "import os\n",
        "import matplotlib.pyplot as plt\n",
        "import pandas as pd\n",
        "import numpy as np"
      ]
    },
    {
      "cell_type": "code",
      "source": [
        "from tensorflow import keras\n",
        "from keras.models import Sequential\n",
        "from keras.layers import Dense,Conv2D,SeparableConv2D,Dropout,Activation,MaxPooling2D,Flatten,BatchNormalization\n",
        "from keras.optimizers import RMSprop, SGD, Adam\n",
        "from keras import regularizers, layers\n",
        "from keras.preprocessing.image import ImageDataGenerator\n",
        "from keras.preprocessing import image\n"
      ],
      "metadata": {
        "id": "6iBzZ98e8Es9"
      },
      "execution_count": 2,
      "outputs": []
    },
    {
      "cell_type": "code",
      "source": [
        "%pip install wandb"
      ],
      "metadata": {
        "colab": {
          "base_uri": "https://localhost:8080/"
        },
        "id": "I8ra-k9gvHkX",
        "outputId": "f6f5442b-4189-40e3-c567-48f2af86cc5a"
      },
      "execution_count": 4,
      "outputs": [
        {
          "output_type": "stream",
          "name": "stdout",
          "text": [
            "Collecting wandb\n",
            "  Downloading wandb-0.16.6-py3-none-any.whl (2.2 MB)\n",
            "\u001b[2K     \u001b[90m━━━━━━━━━━━━━━━━━━━━━━━━━━━━━━━━━━━━━━━━\u001b[0m \u001b[32m2.2/2.2 MB\u001b[0m \u001b[31m6.7 MB/s\u001b[0m eta \u001b[36m0:00:00\u001b[0m\n",
            "\u001b[?25hRequirement already satisfied: Click!=8.0.0,>=7.1 in /usr/local/lib/python3.10/dist-packages (from wandb) (8.1.7)\n",
            "Collecting GitPython!=3.1.29,>=1.0.0 (from wandb)\n",
            "  Downloading GitPython-3.1.43-py3-none-any.whl (207 kB)\n",
            "\u001b[2K     \u001b[90m━━━━━━━━━━━━━━━━━━━━━━━━━━━━━━━━━━━━━━━━\u001b[0m \u001b[32m207.3/207.3 kB\u001b[0m \u001b[31m11.3 MB/s\u001b[0m eta \u001b[36m0:00:00\u001b[0m\n",
            "\u001b[?25hRequirement already satisfied: requests<3,>=2.0.0 in /usr/local/lib/python3.10/dist-packages (from wandb) (2.31.0)\n",
            "Requirement already satisfied: psutil>=5.0.0 in /usr/local/lib/python3.10/dist-packages (from wandb) (5.9.5)\n",
            "Collecting sentry-sdk>=1.0.0 (from wandb)\n",
            "  Downloading sentry_sdk-1.45.0-py2.py3-none-any.whl (267 kB)\n",
            "\u001b[2K     \u001b[90m━━━━━━━━━━━━━━━━━━━━━━━━━━━━━━━━━━━━━━━━\u001b[0m \u001b[32m267.1/267.1 kB\u001b[0m \u001b[31m12.6 MB/s\u001b[0m eta \u001b[36m0:00:00\u001b[0m\n",
            "\u001b[?25hCollecting docker-pycreds>=0.4.0 (from wandb)\n",
            "  Downloading docker_pycreds-0.4.0-py2.py3-none-any.whl (9.0 kB)\n",
            "Requirement already satisfied: PyYAML in /usr/local/lib/python3.10/dist-packages (from wandb) (6.0.1)\n",
            "Collecting setproctitle (from wandb)\n",
            "  Downloading setproctitle-1.3.3-cp310-cp310-manylinux_2_5_x86_64.manylinux1_x86_64.manylinux_2_17_x86_64.manylinux2014_x86_64.whl (30 kB)\n",
            "Requirement already satisfied: setuptools in /usr/local/lib/python3.10/dist-packages (from wandb) (67.7.2)\n",
            "Requirement already satisfied: appdirs>=1.4.3 in /usr/local/lib/python3.10/dist-packages (from wandb) (1.4.4)\n",
            "Requirement already satisfied: protobuf!=4.21.0,<5,>=3.19.0 in /usr/local/lib/python3.10/dist-packages (from wandb) (3.20.3)\n",
            "Requirement already satisfied: six>=1.4.0 in /usr/local/lib/python3.10/dist-packages (from docker-pycreds>=0.4.0->wandb) (1.16.0)\n",
            "Collecting gitdb<5,>=4.0.1 (from GitPython!=3.1.29,>=1.0.0->wandb)\n",
            "  Downloading gitdb-4.0.11-py3-none-any.whl (62 kB)\n",
            "\u001b[2K     \u001b[90m━━━━━━━━━━━━━━━━━━━━━━━━━━━━━━━━━━━━━━━━\u001b[0m \u001b[32m62.7/62.7 kB\u001b[0m \u001b[31m2.9 MB/s\u001b[0m eta \u001b[36m0:00:00\u001b[0m\n",
            "\u001b[?25hRequirement already satisfied: charset-normalizer<4,>=2 in /usr/local/lib/python3.10/dist-packages (from requests<3,>=2.0.0->wandb) (3.3.2)\n",
            "Requirement already satisfied: idna<4,>=2.5 in /usr/local/lib/python3.10/dist-packages (from requests<3,>=2.0.0->wandb) (3.7)\n",
            "Requirement already satisfied: urllib3<3,>=1.21.1 in /usr/local/lib/python3.10/dist-packages (from requests<3,>=2.0.0->wandb) (2.0.7)\n",
            "Requirement already satisfied: certifi>=2017.4.17 in /usr/local/lib/python3.10/dist-packages (from requests<3,>=2.0.0->wandb) (2024.2.2)\n",
            "Collecting smmap<6,>=3.0.1 (from gitdb<5,>=4.0.1->GitPython!=3.1.29,>=1.0.0->wandb)\n",
            "  Downloading smmap-5.0.1-py3-none-any.whl (24 kB)\n",
            "Installing collected packages: smmap, setproctitle, sentry-sdk, docker-pycreds, gitdb, GitPython, wandb\n",
            "Successfully installed GitPython-3.1.43 docker-pycreds-0.4.0 gitdb-4.0.11 sentry-sdk-1.45.0 setproctitle-1.3.3 smmap-5.0.1 wandb-0.16.6\n"
          ]
        }
      ]
    },
    {
      "cell_type": "code",
      "source": [
        "import wandb\n",
        "from wandb.keras import WandbCallback, WandbMetricsLogger, WandbModelCheckpoint"
      ],
      "metadata": {
        "id": "pWGlyh2AvAyf"
      },
      "execution_count": 5,
      "outputs": []
    },
    {
      "cell_type": "code",
      "source": [
        "!wandb login"
      ],
      "metadata": {
        "colab": {
          "base_uri": "https://localhost:8080/"
        },
        "id": "yqBzvVPNwUSO",
        "outputId": "b1bdcc46-0e9a-4019-8b15-b8ea9632f5e6"
      },
      "execution_count": 6,
      "outputs": [
        {
          "output_type": "stream",
          "name": "stdout",
          "text": [
            "\u001b[34m\u001b[1mwandb\u001b[0m: Logging into wandb.ai. (Learn how to deploy a W&B server locally: https://wandb.me/wandb-server)\n",
            "\u001b[34m\u001b[1mwandb\u001b[0m: You can find your API key in your browser here: https://wandb.ai/authorize\n",
            "\u001b[34m\u001b[1mwandb\u001b[0m: Paste an API key from your profile and hit enter, or press ctrl+c to quit: \n",
            "\u001b[34m\u001b[1mwandb\u001b[0m: Appending key for api.wandb.ai to your netrc file: /root/.netrc\n"
          ]
        }
      ]
    },
    {
      "cell_type": "code",
      "source": [
        "epochs = 3\n",
        "batch_size = 20\n",
        "optimizer = Adam"
      ],
      "metadata": {
        "id": "KviWIbPzw1o9"
      },
      "execution_count": 7,
      "outputs": []
    },
    {
      "cell_type": "code",
      "source": [
        "wandb.init(project=\"RF_DataPrueba1\")\n",
        "wandb.config.epochs = epochs\n",
        "wandb.config.batch_size = batch_size\n",
        "wandb.config.optimizer = optimizer"
      ],
      "metadata": {
        "colab": {
          "base_uri": "https://localhost:8080/",
          "height": 208,
          "referenced_widgets": [
            "2e9e5bd5e57d4c51bda23de347f1417e",
            "e58aad7504894904b34385991d65d176",
            "791199c59aa64225b5cca3b542ae91a7",
            "96ad63da3f0440ec8eb72a48d3e33d9f",
            "552cc36e70ee413db33a5469d446ddf0",
            "e30cd88248f14e7a9417b922e84cfddb",
            "a80209068e4241ea834bbb8f01c503b3",
            "a477bc7f172d4eb1ac2881716ba18b12"
          ]
        },
        "id": "D4vuM_qmwmFp",
        "outputId": "d54aa48d-1d7e-44dd-e8d3-91bd065ec333"
      },
      "execution_count": 33,
      "outputs": [
        {
          "output_type": "display_data",
          "data": {
            "text/plain": [
              "<IPython.core.display.HTML object>"
            ],
            "text/html": [
              "Finishing last run (ID:7vsai8bs) before initializing another..."
            ]
          },
          "metadata": {}
        },
        {
          "output_type": "display_data",
          "data": {
            "text/plain": [
              "VBox(children=(Label(value='0.001 MB of 0.001 MB uploaded\\r'), FloatProgress(value=1.0, max=1.0)))"
            ],
            "application/vnd.jupyter.widget-view+json": {
              "version_major": 2,
              "version_minor": 0,
              "model_id": "2e9e5bd5e57d4c51bda23de347f1417e"
            }
          },
          "metadata": {}
        },
        {
          "output_type": "display_data",
          "data": {
            "text/plain": [
              "<IPython.core.display.HTML object>"
            ],
            "text/html": [
              " View run <strong style=\"color:#cdcd00\">fresh-mountain-8</strong> at: <a href='https://wandb.ai/eduard25/RF_DataPrueba1/runs/7vsai8bs' target=\"_blank\">https://wandb.ai/eduard25/RF_DataPrueba1/runs/7vsai8bs</a><br/> View project at: <a href='https://wandb.ai/eduard25/RF_DataPrueba1' target=\"_blank\">https://wandb.ai/eduard25/RF_DataPrueba1</a><br/>Synced 5 W&B file(s), 0 media file(s), 0 artifact file(s) and 0 other file(s)"
            ]
          },
          "metadata": {}
        },
        {
          "output_type": "display_data",
          "data": {
            "text/plain": [
              "<IPython.core.display.HTML object>"
            ],
            "text/html": [
              "Find logs at: <code>./wandb/run-20240418_231727-7vsai8bs/logs</code>"
            ]
          },
          "metadata": {}
        },
        {
          "output_type": "display_data",
          "data": {
            "text/plain": [
              "<IPython.core.display.HTML object>"
            ],
            "text/html": [
              "Successfully finished last run (ID:7vsai8bs). Initializing new run:<br/>"
            ]
          },
          "metadata": {}
        },
        {
          "output_type": "display_data",
          "data": {
            "text/plain": [
              "<IPython.core.display.HTML object>"
            ],
            "text/html": [
              "Tracking run with wandb version 0.16.6"
            ]
          },
          "metadata": {}
        },
        {
          "output_type": "display_data",
          "data": {
            "text/plain": [
              "<IPython.core.display.HTML object>"
            ],
            "text/html": [
              "Run data is saved locally in <code>/content/wandb/run-20240418_233341-95itzszc</code>"
            ]
          },
          "metadata": {}
        },
        {
          "output_type": "display_data",
          "data": {
            "text/plain": [
              "<IPython.core.display.HTML object>"
            ],
            "text/html": [
              "Syncing run <strong><a href='https://wandb.ai/eduard25/RF_DataPrueba1/runs/95itzszc' target=\"_blank\">dulcet-star-9</a></strong> to <a href='https://wandb.ai/eduard25/RF_DataPrueba1' target=\"_blank\">Weights & Biases</a> (<a href='https://wandb.me/run' target=\"_blank\">docs</a>)<br/>"
            ]
          },
          "metadata": {}
        },
        {
          "output_type": "display_data",
          "data": {
            "text/plain": [
              "<IPython.core.display.HTML object>"
            ],
            "text/html": [
              " View project at <a href='https://wandb.ai/eduard25/RF_DataPrueba1' target=\"_blank\">https://wandb.ai/eduard25/RF_DataPrueba1</a>"
            ]
          },
          "metadata": {}
        },
        {
          "output_type": "display_data",
          "data": {
            "text/plain": [
              "<IPython.core.display.HTML object>"
            ],
            "text/html": [
              " View run at <a href='https://wandb.ai/eduard25/RF_DataPrueba1/runs/95itzszc' target=\"_blank\">https://wandb.ai/eduard25/RF_DataPrueba1/runs/95itzszc</a>"
            ]
          },
          "metadata": {}
        }
      ]
    },
    {
      "cell_type": "code",
      "source": [
        "from google.colab import drive\n",
        "drive.mount('/content/gdrive')"
      ],
      "metadata": {
        "colab": {
          "base_uri": "https://localhost:8080/"
        },
        "id": "VeiefEjFXf5I",
        "outputId": "ef3c0ba5-01f9-48a1-d1df-5754109f363a"
      },
      "execution_count": 9,
      "outputs": [
        {
          "output_type": "stream",
          "name": "stdout",
          "text": [
            "Mounted at /content/gdrive\n"
          ]
        }
      ]
    },
    {
      "cell_type": "code",
      "source": [
        "cd /content/gdrive/MyDrive/Neuronal Networks Class/Reconocimiento Facial/CalabE/Img/img_align_celeba/img_align_celeba"
      ],
      "metadata": {
        "colab": {
          "base_uri": "https://localhost:8080/"
        },
        "id": "9lk76cqjX220",
        "outputId": "67bf812c-72b3-4fa0-d46d-06b141c25d38"
      },
      "execution_count": null,
      "outputs": [
        {
          "output_type": "stream",
          "name": "stdout",
          "text": [
            "/content/gdrive/MyDrive/Neuronal Networks Class/Reconocimiento Facial/CalabE/Img/img_align_celeba/img_align_celeba\n"
          ]
        }
      ]
    },
    {
      "cell_type": "code",
      "source": [
        "ls"
      ],
      "metadata": {
        "id": "_cTcvc5RidUA"
      },
      "execution_count": null,
      "outputs": []
    },
    {
      "cell_type": "code",
      "source": [
        "#Acomodamos los atributos\n",
        "file_path = os.path.join('/content/gdrive/MyDrive/Neuronal Networks Class/Reconocimiento Facial/CalabE/Anno', 'list_attr_celeba.txt')\n",
        "\n",
        "with open('/content/gdrive/MyDrive/Neuronal Networks Class/Reconocimiento Facial/CalabE/Anno/list_attr_celeba.txt', 'r') as f:\n",
        "    print(\"skipping : \" + f.readline())\n",
        "    print(\"skipping headers : \" + f.readline())\n",
        "\n",
        "    # Luego, escribe el archivo en la ruta especificada\n",
        "    with open('/content/gdrive/MyDrive/Neuronal Networks Class/Reconocimiento Facial/CalabE/Anno/attr_celeba_prepared.txt', 'w') as newf:\n",
        "        for line in f:\n",
        "            new_line = ' '.join(line.split())\n",
        "            newf.write(new_line)\n",
        "            newf.write('\\n')\n",
        "\n",
        "selected_columns = [0, 2, 3, 4, 7, 8, 9, 12, 19, 20, 21, 22, 26, 28, 32, 34, 37]\n",
        "\n",
        "df = pd.read_csv('/content/gdrive/MyDrive/Neuronal Networks Class/Reconocimiento Facial/CalabE/Anno/attr_celeba_prepared.txt', sep=' ', header = None, usecols=selected_columns)"
      ],
      "metadata": {
        "colab": {
          "base_uri": "https://localhost:8080/"
        },
        "id": "M6It8ptgHSir",
        "outputId": "a1e729ab-a9b7-4688-8aa5-dafa45954c59"
      },
      "execution_count": 10,
      "outputs": [
        {
          "output_type": "stream",
          "name": "stdout",
          "text": [
            "skipping : 202599\n",
            "\n",
            "skipping headers : 5_o_Clock_Shadow Arched_Eyebrows Attractive Bags_Under_Eyes Bald Bangs Big_Lips Big_Nose Black_Hair Blond_Hair Blurry Brown_Hair Bushy_Eyebrows Chubby Double_Chin Eyeglasses Goatee Gray_Hair Heavy_Makeup High_Cheekbones Male Mouth_Slightly_Open Mustache Narrow_Eyes No_Beard Oval_Face Pale_Skin Pointy_Nose Receding_Hairline Rosy_Cheeks Sideburns Smiling Straight_Hair Wavy_Hair Wearing_Earrings Wearing_Hat Wearing_Lipstick Wearing_Necklace Wearing_Necktie Young \n",
            "\n"
          ]
        }
      ]
    },
    {
      "cell_type": "code",
      "source": [
        "print(\"-----------\")\n",
        "print(df[0].head())\n",
        "print(df.iloc[:,1:].head())\n",
        "print(\"----------\")"
      ],
      "metadata": {
        "colab": {
          "base_uri": "https://localhost:8080/"
        },
        "id": "Ds_EhWyzHovh",
        "outputId": "1eb79386-6429-4811-ca8e-36ed26f4e0a6"
      },
      "execution_count": 11,
      "outputs": [
        {
          "output_type": "stream",
          "name": "stdout",
          "text": [
            "-----------\n",
            "0    000001.jpg\n",
            "1    000002.jpg\n",
            "2    000003.jpg\n",
            "3    000004.jpg\n",
            "4    000005.jpg\n",
            "Name: 0, dtype: object\n",
            "   2   3   4   7   8   9   12  19  20  21  22  26  28  32  34  37\n",
            "0   1   1  -1  -1  -1  -1   1   1   1  -1   1  -1   1   1  -1   1\n",
            "1  -1  -1   1  -1   1  -1   1  -1   1  -1   1  -1  -1   1  -1  -1\n",
            "2  -1  -1  -1   1  -1  -1  -1  -1  -1   1  -1  -1   1  -1   1  -1\n",
            "3  -1   1  -1  -1  -1  -1  -1  -1  -1  -1  -1  -1   1  -1  -1   1\n",
            "4   1   1  -1   1  -1  -1  -1   1  -1  -1  -1  -1   1  -1  -1   1\n",
            "----------\n"
          ]
        }
      ]
    },
    {
      "cell_type": "code",
      "source": [
        "attributes=df.iloc[:,1:].to_numpy()\n",
        "#attributes[attributes==-1]=0\n",
        "attributes = np.where(attributes == -1, 0, attributes)"
      ],
      "metadata": {
        "id": "9vfmoZRz9cCE"
      },
      "execution_count": 12,
      "outputs": []
    },
    {
      "cell_type": "code",
      "source": [
        "df.replace(-1, 0, inplace=True)"
      ],
      "metadata": {
        "id": "aR_8fbXk5ax2"
      },
      "execution_count": 13,
      "outputs": []
    },
    {
      "cell_type": "code",
      "source": [
        "print(\"-----------\")\n",
        "print(df[0].head())\n",
        "print(df.iloc[:,1:].head())\n",
        "print(\"----------\")"
      ],
      "metadata": {
        "colab": {
          "base_uri": "https://localhost:8080/"
        },
        "id": "UsCfrgfT3Yf8",
        "outputId": "0323a8cb-15ad-4eab-faea-43a08fb3bae6"
      },
      "execution_count": 14,
      "outputs": [
        {
          "output_type": "stream",
          "name": "stdout",
          "text": [
            "-----------\n",
            "0    000001.jpg\n",
            "1    000002.jpg\n",
            "2    000003.jpg\n",
            "3    000004.jpg\n",
            "4    000005.jpg\n",
            "Name: 0, dtype: object\n",
            "   2   3   4   7   8   9   12  19  20  21  22  26  28  32  34  37\n",
            "0   1   1   0   0   0   0   1   1   1   0   1   0   1   1   0   1\n",
            "1   0   0   1   0   1   0   1   0   1   0   1   0   0   1   0   0\n",
            "2   0   0   0   1   0   0   0   0   0   1   0   0   1   0   1   0\n",
            "3   0   1   0   0   0   0   0   0   0   0   0   0   1   0   0   1\n",
            "4   1   1   0   1   0   0   0   1   0   0   0   0   1   0   0   1\n",
            "----------\n"
          ]
        }
      ]
    },
    {
      "cell_type": "code",
      "source": [
        "files = tf.data.Dataset.from_tensor_slices(df[0])\n",
        "attributes = tf.data.Dataset.from_tensor_slices(df.iloc[:,1:].to_numpy())\n",
        "data = tf.data.Dataset.zip((files, attributes))\n",
        "print(data)"
      ],
      "metadata": {
        "colab": {
          "base_uri": "https://localhost:8080/"
        },
        "id": "XBP68T4JHut9",
        "outputId": "eaaeb352-f113-4e6b-f7c9-28c57ce7a6a1"
      },
      "execution_count": 15,
      "outputs": [
        {
          "output_type": "stream",
          "name": "stdout",
          "text": [
            "<_ZipDataset element_spec=(TensorSpec(shape=(), dtype=tf.string, name=None), TensorSpec(shape=(16,), dtype=tf.int64, name=None))>\n"
          ]
        }
      ]
    },
    {
      "cell_type": "code",
      "source": [
        "print(\"-----------\")\n",
        "print(df[0].head())\n",
        "print(df.iloc[:,1:].head())\n",
        "print(\"----------\")"
      ],
      "metadata": {
        "colab": {
          "base_uri": "https://localhost:8080/"
        },
        "id": "QpN4lntw3g8f",
        "outputId": "fae54663-6b1b-4248-b531-940f040479a8"
      },
      "execution_count": 16,
      "outputs": [
        {
          "output_type": "stream",
          "name": "stdout",
          "text": [
            "-----------\n",
            "0    000001.jpg\n",
            "1    000002.jpg\n",
            "2    000003.jpg\n",
            "3    000004.jpg\n",
            "4    000005.jpg\n",
            "Name: 0, dtype: object\n",
            "   2   3   4   7   8   9   12  19  20  21  22  26  28  32  34  37\n",
            "0   1   1   0   0   0   0   1   1   1   0   1   0   1   1   0   1\n",
            "1   0   0   1   0   1   0   1   0   1   0   1   0   0   1   0   0\n",
            "2   0   0   0   1   0   0   0   0   0   1   0   0   1   0   1   0\n",
            "3   0   1   0   0   0   0   0   0   0   0   0   0   1   0   0   1\n",
            "4   1   1   0   1   0   0   0   1   0   0   0   0   1   0   0   1\n",
            "----------\n"
          ]
        }
      ]
    },
    {
      "cell_type": "code",
      "source": [
        "#Acomodamos las imágenes\n",
        "path_to_images = '/content/gdrive/MyDrive/Neuronal Networks Class/Reconocimiento Facial/CalabE/Img/img_align_celeba/img_align_celeba/'\n",
        "def process_file(file_name, attributes):\n",
        "    image = tf.io.read_file(path_to_images + file_name)\n",
        "    image = tf.image.decode_jpeg(image, channels=3)\n",
        "    image = tf.image.resize(image, [192, 192])\n",
        "    image /= 255.0  #\n",
        "    return image, attributes\n",
        "\n",
        "labeled_images = data.map(process_file)\n",
        "\n",
        "print(labeled_images)"
      ],
      "metadata": {
        "colab": {
          "base_uri": "https://localhost:8080/"
        },
        "id": "isMSnzWPHvjm",
        "outputId": "30ecfc6d-f4e7-4373-8be7-29594522b615"
      },
      "execution_count": 17,
      "outputs": [
        {
          "output_type": "stream",
          "name": "stdout",
          "text": [
            "<_MapDataset element_spec=(TensorSpec(shape=(192, 192, 3), dtype=tf.float32, name=None), TensorSpec(shape=(16,), dtype=tf.int64, name=None))>\n"
          ]
        }
      ]
    },
    {
      "cell_type": "code",
      "source": [
        "Total = len(labeled_images)\n",
        "print(Total)"
      ],
      "metadata": {
        "colab": {
          "base_uri": "https://localhost:8080/"
        },
        "id": "-me5IWWzItks",
        "outputId": "1f1ed9f8-548f-4ed8-bd13-fd6986f7d3b7"
      },
      "execution_count": 18,
      "outputs": [
        {
          "output_type": "stream",
          "name": "stdout",
          "text": [
            "202599\n"
          ]
        }
      ]
    },
    {
      "cell_type": "code",
      "source": [
        "images = labeled_images.shuffle(buffer_size=10*batch_size)\n",
        "images = images.batch(batch_size)\n",
        "train_images = images.take(int(0.8*Total))\n",
        "test_images = images.skip(int(0.8*Total))"
      ],
      "metadata": {
        "id": "XnFLkh0jH2N1"
      },
      "execution_count": 19,
      "outputs": []
    },
    {
      "cell_type": "code",
      "source": [
        "inputs = keras.Input(shape=(192,192,3))\n",
        "x = layers.Rescaling(1./255)(inputs)\n",
        "x = layers.Conv2D(filters=8, kernel_size=5, use_bias=False)(x)"
      ],
      "metadata": {
        "id": "Vv4dcveL8O28"
      },
      "execution_count": 34,
      "outputs": []
    },
    {
      "cell_type": "code",
      "source": [
        "\n",
        "for size in (32, 64, 128, 256, 512):\n",
        "    residual = x\n",
        "    x = layers.BatchNormalization()(x)\n",
        "    x = layers.Activation(\"relu\")(x)\n",
        "    x = layers.SeparableConv2D(size, 3, padding=\"same\", use_bias=False)(x)\n",
        "    x = layers.BatchNormalization()(x)\n",
        "    x = layers.Activation(\"relu\")(x)\n",
        "    x = layers.SeparableConv2D(size, 3, padding=\"same\", use_bias=False)(x)\n",
        "    x = layers.MaxPooling2D(3, strides=2, padding=\"same\")(x)\n",
        "    residual = layers.Conv2D(size, 1, strides=2, padding=\"same\", use_bias=False)(residual)\n",
        "    x = layers.add([x, residual])\n",
        "\n"
      ],
      "metadata": {
        "id": "X0fiZML18xI1"
      },
      "execution_count": 35,
      "outputs": []
    },
    {
      "cell_type": "code",
      "source": [
        "x = layers.GlobalAveragePooling2D()(x)\n",
        "x = layers.Dropout(0.5)(x)\n",
        "x = layers.Dense(256, activation=\"sigmoid\")(x)\n",
        "outputs = layers.Dense(16, activation=\"sigmoid\")(x)\n",
        "model = keras.Model(inputs=inputs, outputs=outputs)\n",
        "\n",
        "model.summary()"
      ],
      "metadata": {
        "colab": {
          "base_uri": "https://localhost:8080/"
        },
        "id": "U70S_XLaq-wo",
        "outputId": "9b78fc95-b2e2-40b3-e6e3-42be32689713"
      },
      "execution_count": 36,
      "outputs": [
        {
          "output_type": "stream",
          "name": "stdout",
          "text": [
            "Model: \"model_2\"\n",
            "__________________________________________________________________________________________________\n",
            " Layer (type)                Output Shape                 Param #   Connected to                  \n",
            "==================================================================================================\n",
            " input_4 (InputLayer)        [(None, 192, 192, 3)]        0         []                            \n",
            "                                                                                                  \n",
            " rescaling_3 (Rescaling)     (None, 192, 192, 3)          0         ['input_4[0][0]']             \n",
            "                                                                                                  \n",
            " conv2d_13 (Conv2D)          (None, 188, 188, 8)          600       ['rescaling_3[0][0]']         \n",
            "                                                                                                  \n",
            " batch_normalization_22 (Ba  (None, 188, 188, 8)          32        ['conv2d_13[0][0]']           \n",
            " tchNormalization)                                                                                \n",
            "                                                                                                  \n",
            " activation_22 (Activation)  (None, 188, 188, 8)          0         ['batch_normalization_22[0][0]\n",
            "                                                                    ']                            \n",
            "                                                                                                  \n",
            " separable_conv2d_22 (Separ  (None, 188, 188, 32)         328       ['activation_22[0][0]']       \n",
            " ableConv2D)                                                                                      \n",
            "                                                                                                  \n",
            " batch_normalization_23 (Ba  (None, 188, 188, 32)         128       ['separable_conv2d_22[0][0]'] \n",
            " tchNormalization)                                                                                \n",
            "                                                                                                  \n",
            " activation_23 (Activation)  (None, 188, 188, 32)         0         ['batch_normalization_23[0][0]\n",
            "                                                                    ']                            \n",
            "                                                                                                  \n",
            " separable_conv2d_23 (Separ  (None, 188, 188, 32)         1312      ['activation_23[0][0]']       \n",
            " ableConv2D)                                                                                      \n",
            "                                                                                                  \n",
            " max_pooling2d_10 (MaxPooli  (None, 94, 94, 32)           0         ['separable_conv2d_23[0][0]'] \n",
            " ng2D)                                                                                            \n",
            "                                                                                                  \n",
            " conv2d_14 (Conv2D)          (None, 94, 94, 32)           256       ['conv2d_13[0][0]']           \n",
            "                                                                                                  \n",
            " add_10 (Add)                (None, 94, 94, 32)           0         ['max_pooling2d_10[0][0]',    \n",
            "                                                                     'conv2d_14[0][0]']           \n",
            "                                                                                                  \n",
            " batch_normalization_24 (Ba  (None, 94, 94, 32)           128       ['add_10[0][0]']              \n",
            " tchNormalization)                                                                                \n",
            "                                                                                                  \n",
            " activation_24 (Activation)  (None, 94, 94, 32)           0         ['batch_normalization_24[0][0]\n",
            "                                                                    ']                            \n",
            "                                                                                                  \n",
            " separable_conv2d_24 (Separ  (None, 94, 94, 64)           2336      ['activation_24[0][0]']       \n",
            " ableConv2D)                                                                                      \n",
            "                                                                                                  \n",
            " batch_normalization_25 (Ba  (None, 94, 94, 64)           256       ['separable_conv2d_24[0][0]'] \n",
            " tchNormalization)                                                                                \n",
            "                                                                                                  \n",
            " activation_25 (Activation)  (None, 94, 94, 64)           0         ['batch_normalization_25[0][0]\n",
            "                                                                    ']                            \n",
            "                                                                                                  \n",
            " separable_conv2d_25 (Separ  (None, 94, 94, 64)           4672      ['activation_25[0][0]']       \n",
            " ableConv2D)                                                                                      \n",
            "                                                                                                  \n",
            " max_pooling2d_11 (MaxPooli  (None, 47, 47, 64)           0         ['separable_conv2d_25[0][0]'] \n",
            " ng2D)                                                                                            \n",
            "                                                                                                  \n",
            " conv2d_15 (Conv2D)          (None, 47, 47, 64)           2048      ['add_10[0][0]']              \n",
            "                                                                                                  \n",
            " add_11 (Add)                (None, 47, 47, 64)           0         ['max_pooling2d_11[0][0]',    \n",
            "                                                                     'conv2d_15[0][0]']           \n",
            "                                                                                                  \n",
            " batch_normalization_26 (Ba  (None, 47, 47, 64)           256       ['add_11[0][0]']              \n",
            " tchNormalization)                                                                                \n",
            "                                                                                                  \n",
            " activation_26 (Activation)  (None, 47, 47, 64)           0         ['batch_normalization_26[0][0]\n",
            "                                                                    ']                            \n",
            "                                                                                                  \n",
            " separable_conv2d_26 (Separ  (None, 47, 47, 128)          8768      ['activation_26[0][0]']       \n",
            " ableConv2D)                                                                                      \n",
            "                                                                                                  \n",
            " batch_normalization_27 (Ba  (None, 47, 47, 128)          512       ['separable_conv2d_26[0][0]'] \n",
            " tchNormalization)                                                                                \n",
            "                                                                                                  \n",
            " activation_27 (Activation)  (None, 47, 47, 128)          0         ['batch_normalization_27[0][0]\n",
            "                                                                    ']                            \n",
            "                                                                                                  \n",
            " separable_conv2d_27 (Separ  (None, 47, 47, 128)          17536     ['activation_27[0][0]']       \n",
            " ableConv2D)                                                                                      \n",
            "                                                                                                  \n",
            " max_pooling2d_12 (MaxPooli  (None, 24, 24, 128)          0         ['separable_conv2d_27[0][0]'] \n",
            " ng2D)                                                                                            \n",
            "                                                                                                  \n",
            " conv2d_16 (Conv2D)          (None, 24, 24, 128)          8192      ['add_11[0][0]']              \n",
            "                                                                                                  \n",
            " add_12 (Add)                (None, 24, 24, 128)          0         ['max_pooling2d_12[0][0]',    \n",
            "                                                                     'conv2d_16[0][0]']           \n",
            "                                                                                                  \n",
            " batch_normalization_28 (Ba  (None, 24, 24, 128)          512       ['add_12[0][0]']              \n",
            " tchNormalization)                                                                                \n",
            "                                                                                                  \n",
            " activation_28 (Activation)  (None, 24, 24, 128)          0         ['batch_normalization_28[0][0]\n",
            "                                                                    ']                            \n",
            "                                                                                                  \n",
            " separable_conv2d_28 (Separ  (None, 24, 24, 256)          33920     ['activation_28[0][0]']       \n",
            " ableConv2D)                                                                                      \n",
            "                                                                                                  \n",
            " batch_normalization_29 (Ba  (None, 24, 24, 256)          1024      ['separable_conv2d_28[0][0]'] \n",
            " tchNormalization)                                                                                \n",
            "                                                                                                  \n",
            " activation_29 (Activation)  (None, 24, 24, 256)          0         ['batch_normalization_29[0][0]\n",
            "                                                                    ']                            \n",
            "                                                                                                  \n",
            " separable_conv2d_29 (Separ  (None, 24, 24, 256)          67840     ['activation_29[0][0]']       \n",
            " ableConv2D)                                                                                      \n",
            "                                                                                                  \n",
            " max_pooling2d_13 (MaxPooli  (None, 12, 12, 256)          0         ['separable_conv2d_29[0][0]'] \n",
            " ng2D)                                                                                            \n",
            "                                                                                                  \n",
            " conv2d_17 (Conv2D)          (None, 12, 12, 256)          32768     ['add_12[0][0]']              \n",
            "                                                                                                  \n",
            " add_13 (Add)                (None, 12, 12, 256)          0         ['max_pooling2d_13[0][0]',    \n",
            "                                                                     'conv2d_17[0][0]']           \n",
            "                                                                                                  \n",
            " batch_normalization_30 (Ba  (None, 12, 12, 256)          1024      ['add_13[0][0]']              \n",
            " tchNormalization)                                                                                \n",
            "                                                                                                  \n",
            " activation_30 (Activation)  (None, 12, 12, 256)          0         ['batch_normalization_30[0][0]\n",
            "                                                                    ']                            \n",
            "                                                                                                  \n",
            " separable_conv2d_30 (Separ  (None, 12, 12, 512)          133376    ['activation_30[0][0]']       \n",
            " ableConv2D)                                                                                      \n",
            "                                                                                                  \n",
            " batch_normalization_31 (Ba  (None, 12, 12, 512)          2048      ['separable_conv2d_30[0][0]'] \n",
            " tchNormalization)                                                                                \n",
            "                                                                                                  \n",
            " activation_31 (Activation)  (None, 12, 12, 512)          0         ['batch_normalization_31[0][0]\n",
            "                                                                    ']                            \n",
            "                                                                                                  \n",
            " separable_conv2d_31 (Separ  (None, 12, 12, 512)          266752    ['activation_31[0][0]']       \n",
            " ableConv2D)                                                                                      \n",
            "                                                                                                  \n",
            " max_pooling2d_14 (MaxPooli  (None, 6, 6, 512)            0         ['separable_conv2d_31[0][0]'] \n",
            " ng2D)                                                                                            \n",
            "                                                                                                  \n",
            " conv2d_18 (Conv2D)          (None, 6, 6, 512)            131072    ['add_13[0][0]']              \n",
            "                                                                                                  \n",
            " add_14 (Add)                (None, 6, 6, 512)            0         ['max_pooling2d_14[0][0]',    \n",
            "                                                                     'conv2d_18[0][0]']           \n",
            "                                                                                                  \n",
            " global_average_pooling2d_3  (None, 512)                  0         ['add_14[0][0]']              \n",
            "  (GlobalAveragePooling2D)                                                                        \n",
            "                                                                                                  \n",
            " dropout_2 (Dropout)         (None, 512)                  0         ['global_average_pooling2d_3[0\n",
            "                                                                    ][0]']                        \n",
            "                                                                                                  \n",
            " dense_4 (Dense)             (None, 256)                  131328    ['dropout_2[0][0]']           \n",
            "                                                                                                  \n",
            " dense_5 (Dense)             (None, 16)                   4112      ['dense_4[0][0]']             \n",
            "                                                                                                  \n",
            "==================================================================================================\n",
            "Total params: 853136 (3.25 MB)\n",
            "Trainable params: 850176 (3.24 MB)\n",
            "Non-trainable params: 2960 (11.56 KB)\n",
            "__________________________________________________________________________________________________\n"
          ]
        }
      ]
    },
    {
      "cell_type": "code",
      "source": [
        "model.compile(optimizer=Adam(), loss='binary_crossentropy')\n",
        "model.fit(train_images, batch_size=batch_size, epochs=epochs, validation_data=test_images, callbacks=[WandbCallback()])\n",
        "model.save(\"DataEntrenada3.hf5\")"
      ],
      "metadata": {
        "colab": {
          "base_uri": "https://localhost:8080/",
          "height": 460
        },
        "id": "wH02YD1ur8Od",
        "outputId": "5cf4d1ee-7102-48ca-ca22-1e1fe5c3338a"
      },
      "execution_count": 38,
      "outputs": [
        {
          "output_type": "stream",
          "name": "stdout",
          "text": [
            "Epoch 1/3\n",
            " 2843/10130 [=======>......................] - ETA: 8:29:33 - loss: 0.4158"
          ]
        },
        {
          "output_type": "error",
          "ename": "NotFoundError",
          "evalue": "Graph execution error:\n\nDetected at node ReadFile defined at (most recent call last):\n<stack traces unavailable>\n/content/gdrive/MyDrive/Neuronal Networks Class/Reconocimiento Facial/CalabE/Img/img_align_celeba/img_align_celeba/057074.jpg; No such file or directory\n\t [[{{node ReadFile}}]]\n\t [[IteratorGetNext]] [Op:__inference_train_function_20888]",
          "traceback": [
            "\u001b[0;31m---------------------------------------------------------------------------\u001b[0m",
            "\u001b[0;31mNotFoundError\u001b[0m                             Traceback (most recent call last)",
            "\u001b[0;32m<ipython-input-38-626a2a3b9e0c>\u001b[0m in \u001b[0;36m<cell line: 2>\u001b[0;34m()\u001b[0m\n\u001b[1;32m      1\u001b[0m \u001b[0mmodel\u001b[0m\u001b[0;34m.\u001b[0m\u001b[0mcompile\u001b[0m\u001b[0;34m(\u001b[0m\u001b[0moptimizer\u001b[0m\u001b[0;34m=\u001b[0m\u001b[0mAdam\u001b[0m\u001b[0;34m(\u001b[0m\u001b[0;34m)\u001b[0m\u001b[0;34m,\u001b[0m \u001b[0mloss\u001b[0m\u001b[0;34m=\u001b[0m\u001b[0;34m'binary_crossentropy'\u001b[0m\u001b[0;34m)\u001b[0m\u001b[0;34m\u001b[0m\u001b[0;34m\u001b[0m\u001b[0m\n\u001b[0;32m----> 2\u001b[0;31m \u001b[0mmodel\u001b[0m\u001b[0;34m.\u001b[0m\u001b[0mfit\u001b[0m\u001b[0;34m(\u001b[0m\u001b[0mtrain_images\u001b[0m\u001b[0;34m,\u001b[0m \u001b[0mbatch_size\u001b[0m\u001b[0;34m=\u001b[0m\u001b[0mbatch_size\u001b[0m\u001b[0;34m,\u001b[0m \u001b[0mepochs\u001b[0m\u001b[0;34m=\u001b[0m\u001b[0mepochs\u001b[0m\u001b[0;34m,\u001b[0m \u001b[0mvalidation_data\u001b[0m\u001b[0;34m=\u001b[0m\u001b[0mtest_images\u001b[0m\u001b[0;34m,\u001b[0m \u001b[0mcallbacks\u001b[0m\u001b[0;34m=\u001b[0m\u001b[0;34m[\u001b[0m\u001b[0mWandbCallback\u001b[0m\u001b[0;34m(\u001b[0m\u001b[0;34m)\u001b[0m\u001b[0;34m]\u001b[0m\u001b[0;34m)\u001b[0m\u001b[0;34m\u001b[0m\u001b[0;34m\u001b[0m\u001b[0m\n\u001b[0m\u001b[1;32m      3\u001b[0m \u001b[0mmodel\u001b[0m\u001b[0;34m.\u001b[0m\u001b[0msave\u001b[0m\u001b[0;34m(\u001b[0m\u001b[0;34m\"DataEntrenada3.hf5\"\u001b[0m\u001b[0;34m)\u001b[0m\u001b[0;34m\u001b[0m\u001b[0;34m\u001b[0m\u001b[0m\n",
            "\u001b[0;32m/usr/local/lib/python3.10/dist-packages/keras/src/utils/traceback_utils.py\u001b[0m in \u001b[0;36merror_handler\u001b[0;34m(*args, **kwargs)\u001b[0m\n\u001b[1;32m     68\u001b[0m             \u001b[0;31m# To get the full stack trace, call:\u001b[0m\u001b[0;34m\u001b[0m\u001b[0;34m\u001b[0m\u001b[0m\n\u001b[1;32m     69\u001b[0m             \u001b[0;31m# `tf.debugging.disable_traceback_filtering()`\u001b[0m\u001b[0;34m\u001b[0m\u001b[0;34m\u001b[0m\u001b[0m\n\u001b[0;32m---> 70\u001b[0;31m             \u001b[0;32mraise\u001b[0m \u001b[0me\u001b[0m\u001b[0;34m.\u001b[0m\u001b[0mwith_traceback\u001b[0m\u001b[0;34m(\u001b[0m\u001b[0mfiltered_tb\u001b[0m\u001b[0;34m)\u001b[0m \u001b[0;32mfrom\u001b[0m \u001b[0;32mNone\u001b[0m\u001b[0;34m\u001b[0m\u001b[0;34m\u001b[0m\u001b[0m\n\u001b[0m\u001b[1;32m     71\u001b[0m         \u001b[0;32mfinally\u001b[0m\u001b[0;34m:\u001b[0m\u001b[0;34m\u001b[0m\u001b[0;34m\u001b[0m\u001b[0m\n\u001b[1;32m     72\u001b[0m             \u001b[0;32mdel\u001b[0m \u001b[0mfiltered_tb\u001b[0m\u001b[0;34m\u001b[0m\u001b[0;34m\u001b[0m\u001b[0m\n",
            "\u001b[0;32m/usr/local/lib/python3.10/dist-packages/tensorflow/python/eager/execute.py\u001b[0m in \u001b[0;36mquick_execute\u001b[0;34m(op_name, num_outputs, inputs, attrs, ctx, name)\u001b[0m\n\u001b[1;32m     51\u001b[0m   \u001b[0;32mtry\u001b[0m\u001b[0;34m:\u001b[0m\u001b[0;34m\u001b[0m\u001b[0;34m\u001b[0m\u001b[0m\n\u001b[1;32m     52\u001b[0m     \u001b[0mctx\u001b[0m\u001b[0;34m.\u001b[0m\u001b[0mensure_initialized\u001b[0m\u001b[0;34m(\u001b[0m\u001b[0;34m)\u001b[0m\u001b[0;34m\u001b[0m\u001b[0;34m\u001b[0m\u001b[0m\n\u001b[0;32m---> 53\u001b[0;31m     tensors = pywrap_tfe.TFE_Py_Execute(ctx._handle, device_name, op_name,\n\u001b[0m\u001b[1;32m     54\u001b[0m                                         inputs, attrs, num_outputs)\n\u001b[1;32m     55\u001b[0m   \u001b[0;32mexcept\u001b[0m \u001b[0mcore\u001b[0m\u001b[0;34m.\u001b[0m\u001b[0m_NotOkStatusException\u001b[0m \u001b[0;32mas\u001b[0m \u001b[0me\u001b[0m\u001b[0;34m:\u001b[0m\u001b[0;34m\u001b[0m\u001b[0;34m\u001b[0m\u001b[0m\n",
            "\u001b[0;31mNotFoundError\u001b[0m: Graph execution error:\n\nDetected at node ReadFile defined at (most recent call last):\n<stack traces unavailable>\n/content/gdrive/MyDrive/Neuronal Networks Class/Reconocimiento Facial/CalabE/Img/img_align_celeba/img_align_celeba/057074.jpg; No such file or directory\n\t [[{{node ReadFile}}]]\n\t [[IteratorGetNext]] [Op:__inference_train_function_20888]"
          ]
        }
      ]
    }
  ]
}