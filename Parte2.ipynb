{
  "nbformat": 4,
  "nbformat_minor": 0,
  "metadata": {
    "colab": {
      "provenance": [],
      "authorship_tag": "ABX9TyOuGO5IcosgHyxk+VxV1/IF",
      "include_colab_link": true
    },
    "kernelspec": {
      "name": "python3",
      "display_name": "Python 3"
    },
    "language_info": {
      "name": "python"
    }
  },
  "cells": [
    {
      "cell_type": "markdown",
      "metadata": {
        "id": "view-in-github",
        "colab_type": "text"
      },
      "source": [
        "<a href=\"https://colab.research.google.com/github/Eduard25/Redes/blob/master/Parte2.ipynb\" target=\"_parent\"><img src=\"https://colab.research.google.com/assets/colab-badge.svg\" alt=\"Open In Colab\"/></a>"
      ]
    },
    {
      "cell_type": "code",
      "execution_count": null,
      "metadata": {
        "id": "LOldFOJ6JUnO"
      },
      "outputs": [],
      "source": [
        "import tensorflow as tf\n",
        "import pathlib\n",
        "import os\n",
        "import matplotlib.pyplot as plt\n",
        "import pandas as pd\n",
        "import numpy as np\n",
        "import pickle\n",
        "import csv"
      ]
    },
    {
      "cell_type": "code",
      "source": [
        "from tensorflow import keras\n",
        "from keras.models import Sequential\n",
        "from keras.layers import Dense,Conv2D,SeparableConv2D,Dropout,Activation,MaxPooling2D,Flatten,BatchNormalization\n",
        "from keras.optimizers import RMSprop, SGD, Adam\n",
        "from keras import regularizers, layers\n",
        "from keras.preprocessing.image import ImageDataGenerator\n",
        "from keras.preprocessing import image"
      ],
      "metadata": {
        "id": "DSuRgvx0TgMQ"
      },
      "execution_count": null,
      "outputs": []
    },
    {
      "cell_type": "code",
      "source": [
        "from google.colab import drive\n",
        "drive.mount('/content/gdrive')"
      ],
      "metadata": {
        "id": "QXjHsR3HXE30"
      },
      "execution_count": null,
      "outputs": []
    },
    {
      "cell_type": "code",
      "source": [
        "df_train = pd.read_csv('/content/gdrive/MyDrive/Neuronal Networks Class/Reconocimiento Facial/CalabE/Anno/attr_celeba_prepared_veintemil.txt')\n",
        "df_train['values'] = df_train['values'].astype('str')"
      ],
      "metadata": {
        "id": "0z-K1NstUCPt"
      },
      "execution_count": null,
      "outputs": []
    },
    {
      "cell_type": "code",
      "source": [
        "datagen = ImageDataGenerator(rescale=1./255)\n",
        "train_generator_df = datagen.flow_from_dataframe(\n",
        "    dataframe=df_train,\n",
        "    directory='/content/gdrive/MyDrive/Neuronal Networks Class/Reconocimiento Facial/CalabE/Img/MisFotos',\n",
        "    x_col=\"File Names\",\n",
        "    y_col=\"Values\",\n",
        "    class_mode=\"binary\",\n",
        "    target_size=(152, 152),\n",
        "    batch_size=20\n",
        ")"
      ],
      "metadata": {
        "id": "xfHBUOwXU7JR"
      },
      "execution_count": null,
      "outputs": []
    },
    {
      "cell_type": "code",
      "source": [
        "for i in range(4)\n",
        "  image, label = next(train_generator_df)\n",
        "\n",
        "  image = image[0].astype('unit8')\n",
        "\n",
        "  ax[i].imshow(image)\n",
        "  ax[i].axis('off')"
      ],
      "metadata": {
        "id": "XwmBMO5gVoVZ"
      },
      "execution_count": null,
      "outputs": []
    },
    {
      "cell_type": "code",
      "source": [
        "model = Sequential ()\n",
        "model = tf.keras.models.load_model(\"DataEntrenada5.hf5\")\n",
        "model.add(Conv2D(32, kernel_size=3, input_shape=(152, 152, 3)))\n",
        "model.add(\"DataEntrenada.hf5\".layers[-2].output)\n",
        "\n",
        "model.summary()"
      ],
      "metadata": {
        "id": "aNvC35i4V57G"
      },
      "execution_count": null,
      "outputs": []
    },
    {
      "cell_type": "code",
      "source": [
        "model.compile(optimizer='Adam', loss='binary_crossentropy', metrics=['accuracy'])"
      ],
      "metadata": {
        "id": "Qnb6CntbWtr-"
      },
      "execution_count": null,
      "outputs": []
    }
  ]
}