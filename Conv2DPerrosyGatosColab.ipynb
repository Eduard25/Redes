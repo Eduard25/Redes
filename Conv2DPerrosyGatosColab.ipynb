{
  "nbformat": 4,
  "nbformat_minor": 0,
  "metadata": {
    "colab": {
      "provenance": [],
      "include_colab_link": true
    },
    "kernelspec": {
      "name": "python3",
      "display_name": "Python 3"
    },
    "language_info": {
      "name": "python"
    }
  },
  "cells": [
    {
      "cell_type": "markdown",
      "metadata": {
        "id": "view-in-github",
        "colab_type": "text"
      },
      "source": [
        "<a href=\"https://colab.research.google.com/github/Eduard25/Redes/blob/master/Conv2DPerrosyGatosColab.ipynb\" target=\"_parent\"><img src=\"https://colab.research.google.com/assets/colab-badge.svg\" alt=\"Open In Colab\"/></a>"
      ]
    },
    {
      "cell_type": "markdown",
      "source": [
        "Escribir la ruta de su directorio de trabajo"
      ],
      "metadata": {
        "id": "1lkdy9AOVPZ-"
      }
    },
    {
      "cell_type": "code",
      "source": [
        "!git"
      ],
      "metadata": {
        "colab": {
          "base_uri": "https://localhost:8080/"
        },
        "id": "ZnDeL4ORYTBS",
        "outputId": "fe3dce56-4fa0-41fb-d2b9-79d21e2c4497"
      },
      "execution_count": 47,
      "outputs": [
        {
          "output_type": "stream",
          "name": "stdout",
          "text": [
            "git version 2.34.1\n"
          ]
        }
      ]
    },
    {
      "cell_type": "code",
      "source": [
        "cd /content/drive/MyDrive/Redes\\ Neuronales\\ Clase"
      ],
      "metadata": {
        "colab": {
          "base_uri": "https://localhost:8080/"
        },
        "id": "umATRzXjIDeJ",
        "outputId": "d12eb49d-81f5-4039-e6b7-5f53e0b3ec1c"
      },
      "execution_count": 39,
      "outputs": [
        {
          "output_type": "stream",
          "name": "stdout",
          "text": [
            "/content/MyDrive/Redes Neuronales Clase\n"
          ]
        }
      ]
    },
    {
      "cell_type": "code",
      "source": [
        "ls"
      ],
      "metadata": {
        "colab": {
          "base_uri": "https://localhost:8080/"
        },
        "id": "gmwVd6DNUd_2",
        "outputId": "baee692e-9c1d-4d7c-a77f-daad9503dca4"
      },
      "execution_count": 40,
      "outputs": [
        {
          "output_type": "stream",
          "name": "stdout",
          "text": [
            "\u001b[0m\u001b[01;34mdata\u001b[0m/\n"
          ]
        }
      ]
    },
    {
      "cell_type": "code",
      "source": [
        "from google.colab import drive\n",
        "drive.mount('/content/drive')"
      ],
      "metadata": {
        "colab": {
          "base_uri": "https://localhost:8080/",
          "height": 304
        },
        "id": "kCjOWS_0QtGh",
        "outputId": "1f2d40ca-f83d-4884-f5eb-d8b178057abf"
      },
      "execution_count": 41,
      "outputs": [
        {
          "output_type": "error",
          "ename": "MessageError",
          "evalue": "Error: credential propagation was unsuccessful",
          "traceback": [
            "\u001b[0;31m---------------------------------------------------------------------------\u001b[0m",
            "\u001b[0;31mMessageError\u001b[0m                              Traceback (most recent call last)",
            "\u001b[0;32m<ipython-input-41-d5df0069828e>\u001b[0m in \u001b[0;36m<cell line: 2>\u001b[0;34m()\u001b[0m\n\u001b[1;32m      1\u001b[0m \u001b[0;32mfrom\u001b[0m \u001b[0mgoogle\u001b[0m\u001b[0;34m.\u001b[0m\u001b[0mcolab\u001b[0m \u001b[0;32mimport\u001b[0m \u001b[0mdrive\u001b[0m\u001b[0;34m\u001b[0m\u001b[0;34m\u001b[0m\u001b[0m\n\u001b[0;32m----> 2\u001b[0;31m \u001b[0mdrive\u001b[0m\u001b[0;34m.\u001b[0m\u001b[0mmount\u001b[0m\u001b[0;34m(\u001b[0m\u001b[0;34m'/content/drive'\u001b[0m\u001b[0;34m)\u001b[0m\u001b[0;34m\u001b[0m\u001b[0;34m\u001b[0m\u001b[0m\n\u001b[0m",
            "\u001b[0;32m/usr/local/lib/python3.10/dist-packages/google/colab/drive.py\u001b[0m in \u001b[0;36mmount\u001b[0;34m(mountpoint, force_remount, timeout_ms, readonly)\u001b[0m\n\u001b[1;32m     98\u001b[0m \u001b[0;32mdef\u001b[0m \u001b[0mmount\u001b[0m\u001b[0;34m(\u001b[0m\u001b[0mmountpoint\u001b[0m\u001b[0;34m,\u001b[0m \u001b[0mforce_remount\u001b[0m\u001b[0;34m=\u001b[0m\u001b[0;32mFalse\u001b[0m\u001b[0;34m,\u001b[0m \u001b[0mtimeout_ms\u001b[0m\u001b[0;34m=\u001b[0m\u001b[0;36m120000\u001b[0m\u001b[0;34m,\u001b[0m \u001b[0mreadonly\u001b[0m\u001b[0;34m=\u001b[0m\u001b[0;32mFalse\u001b[0m\u001b[0;34m)\u001b[0m\u001b[0;34m:\u001b[0m\u001b[0;34m\u001b[0m\u001b[0;34m\u001b[0m\u001b[0m\n\u001b[1;32m     99\u001b[0m   \u001b[0;34m\"\"\"Mount your Google Drive at the specified mountpoint path.\"\"\"\u001b[0m\u001b[0;34m\u001b[0m\u001b[0;34m\u001b[0m\u001b[0m\n\u001b[0;32m--> 100\u001b[0;31m   return _mount(\n\u001b[0m\u001b[1;32m    101\u001b[0m       \u001b[0mmountpoint\u001b[0m\u001b[0;34m,\u001b[0m\u001b[0;34m\u001b[0m\u001b[0;34m\u001b[0m\u001b[0m\n\u001b[1;32m    102\u001b[0m       \u001b[0mforce_remount\u001b[0m\u001b[0;34m=\u001b[0m\u001b[0mforce_remount\u001b[0m\u001b[0;34m,\u001b[0m\u001b[0;34m\u001b[0m\u001b[0;34m\u001b[0m\u001b[0m\n",
            "\u001b[0;32m/usr/local/lib/python3.10/dist-packages/google/colab/drive.py\u001b[0m in \u001b[0;36m_mount\u001b[0;34m(mountpoint, force_remount, timeout_ms, ephemeral, readonly)\u001b[0m\n\u001b[1;32m    127\u001b[0m   )\n\u001b[1;32m    128\u001b[0m   \u001b[0;32mif\u001b[0m \u001b[0mephemeral\u001b[0m\u001b[0;34m:\u001b[0m\u001b[0;34m\u001b[0m\u001b[0;34m\u001b[0m\u001b[0m\n\u001b[0;32m--> 129\u001b[0;31m     _message.blocking_request(\n\u001b[0m\u001b[1;32m    130\u001b[0m         \u001b[0;34m'request_auth'\u001b[0m\u001b[0;34m,\u001b[0m \u001b[0mrequest\u001b[0m\u001b[0;34m=\u001b[0m\u001b[0;34m{\u001b[0m\u001b[0;34m'authType'\u001b[0m\u001b[0;34m:\u001b[0m \u001b[0;34m'dfs_ephemeral'\u001b[0m\u001b[0;34m}\u001b[0m\u001b[0;34m,\u001b[0m \u001b[0mtimeout_sec\u001b[0m\u001b[0;34m=\u001b[0m\u001b[0;32mNone\u001b[0m\u001b[0;34m\u001b[0m\u001b[0;34m\u001b[0m\u001b[0m\n\u001b[1;32m    131\u001b[0m     )\n",
            "\u001b[0;32m/usr/local/lib/python3.10/dist-packages/google/colab/_message.py\u001b[0m in \u001b[0;36mblocking_request\u001b[0;34m(request_type, request, timeout_sec, parent)\u001b[0m\n\u001b[1;32m    174\u001b[0m       \u001b[0mrequest_type\u001b[0m\u001b[0;34m,\u001b[0m \u001b[0mrequest\u001b[0m\u001b[0;34m,\u001b[0m \u001b[0mparent\u001b[0m\u001b[0;34m=\u001b[0m\u001b[0mparent\u001b[0m\u001b[0;34m,\u001b[0m \u001b[0mexpect_reply\u001b[0m\u001b[0;34m=\u001b[0m\u001b[0;32mTrue\u001b[0m\u001b[0;34m\u001b[0m\u001b[0;34m\u001b[0m\u001b[0m\n\u001b[1;32m    175\u001b[0m   )\n\u001b[0;32m--> 176\u001b[0;31m   \u001b[0;32mreturn\u001b[0m \u001b[0mread_reply_from_input\u001b[0m\u001b[0;34m(\u001b[0m\u001b[0mrequest_id\u001b[0m\u001b[0;34m,\u001b[0m \u001b[0mtimeout_sec\u001b[0m\u001b[0;34m)\u001b[0m\u001b[0;34m\u001b[0m\u001b[0;34m\u001b[0m\u001b[0m\n\u001b[0m",
            "\u001b[0;32m/usr/local/lib/python3.10/dist-packages/google/colab/_message.py\u001b[0m in \u001b[0;36mread_reply_from_input\u001b[0;34m(message_id, timeout_sec)\u001b[0m\n\u001b[1;32m    101\u001b[0m     ):\n\u001b[1;32m    102\u001b[0m       \u001b[0;32mif\u001b[0m \u001b[0;34m'error'\u001b[0m \u001b[0;32min\u001b[0m \u001b[0mreply\u001b[0m\u001b[0;34m:\u001b[0m\u001b[0;34m\u001b[0m\u001b[0;34m\u001b[0m\u001b[0m\n\u001b[0;32m--> 103\u001b[0;31m         \u001b[0;32mraise\u001b[0m \u001b[0mMessageError\u001b[0m\u001b[0;34m(\u001b[0m\u001b[0mreply\u001b[0m\u001b[0;34m[\u001b[0m\u001b[0;34m'error'\u001b[0m\u001b[0;34m]\u001b[0m\u001b[0;34m)\u001b[0m\u001b[0;34m\u001b[0m\u001b[0;34m\u001b[0m\u001b[0m\n\u001b[0m\u001b[1;32m    104\u001b[0m       \u001b[0;32mreturn\u001b[0m \u001b[0mreply\u001b[0m\u001b[0;34m.\u001b[0m\u001b[0mget\u001b[0m\u001b[0;34m(\u001b[0m\u001b[0;34m'data'\u001b[0m\u001b[0;34m,\u001b[0m \u001b[0;32mNone\u001b[0m\u001b[0;34m)\u001b[0m\u001b[0;34m\u001b[0m\u001b[0;34m\u001b[0m\u001b[0m\n\u001b[1;32m    105\u001b[0m \u001b[0;34m\u001b[0m\u001b[0m\n",
            "\u001b[0;31mMessageError\u001b[0m: Error: credential propagation was unsuccessful"
          ]
        }
      ]
    },
    {
      "cell_type": "code",
      "source": [
        "train_dir = 'data/minitrain' #directorio de entrenamiento\n",
        "test_dir = 'data/minitest' #directorio de prueba\n",
        "\n",
        "### Para saber cuantas imágenes hay\n",
        "import os\n",
        "from glob import glob\n",
        "import numpy as np\n",
        "cat_files_path = os.path.join(train_dir, 'cat/*')\n",
        "dog_files_path = os.path.join(train_dir, 'dog/*')\n",
        "\n",
        "cat_files = sorted(glob(cat_files_path))\n",
        "dog_files = sorted(glob(dog_files_path))\n",
        "\n",
        "n_files = len(cat_files) + len(dog_files)\n",
        "print(n_files)\n",
        "\n",
        "cat_files_path_test = os.path.join(test_dir, 'cat/*')\n",
        "dog_files_path_test = os.path.join(test_dir, 'dog/*')\n",
        "\n",
        "cat_files_test = sorted(glob(cat_files_path_test))\n",
        "dog_files_test = sorted(glob(dog_files_path_test))\n",
        "\n",
        "n_files_test = len(cat_files_test) + len(dog_files_test)\n",
        "print(n_files_test)"
      ],
      "metadata": {
        "colab": {
          "base_uri": "https://localhost:8080/"
        },
        "id": "HvC8zYpsUozT",
        "outputId": "232ea49e-d71d-400d-b5ce-629341c52146"
      },
      "execution_count": 42,
      "outputs": [
        {
          "output_type": "stream",
          "name": "stdout",
          "text": [
            "202\n",
            "52\n"
          ]
        }
      ]
    },
    {
      "cell_type": "code",
      "execution_count": 43,
      "metadata": {
        "id": "8wqC3m1q86sf",
        "colab": {
          "base_uri": "https://localhost:8080/"
        },
        "outputId": "6e7ab96d-6c36-4b96-fd11-0f09c8bb238a"
      },
      "outputs": [
        {
          "output_type": "stream",
          "name": "stdout",
          "text": [
            "data/minitrain\n",
            "Found 202 images belonging to 3 classes.\n",
            "data/minitest\n",
            "Found 52 images belonging to 3 classes.\n",
            "Epoch 1/10\n",
            "4/4 [==============================] - 4s 604ms/step - loss: -22.7872 - accuracy: 0.3816 - val_loss: -99.6834 - val_accuracy: 0.5000\n",
            "Epoch 2/10\n",
            "4/4 [==============================] - 3s 791ms/step - loss: -196.2642 - accuracy: 0.4803 - val_loss: -641.3401 - val_accuracy: 0.5000\n",
            "Epoch 3/10\n",
            "4/4 [==============================] - 2s 719ms/step - loss: -1221.9314 - accuracy: 0.5000 - val_loss: -2024.1564 - val_accuracy: 0.5000\n",
            "Epoch 4/10\n",
            "4/4 [==============================] - 2s 499ms/step - loss: -2545.3372 - accuracy: 0.5066 - val_loss: -4650.8442 - val_accuracy: 0.5000\n",
            "Epoch 5/10\n",
            "4/4 [==============================] - 2s 707ms/step - loss: -5542.7700 - accuracy: 0.5132 - val_loss: -7870.5952 - val_accuracy: 0.5000\n",
            "Epoch 6/10\n",
            "4/4 [==============================] - 3s 845ms/step - loss: -11867.3203 - accuracy: 0.4605 - val_loss: -14853.7354 - val_accuracy: 0.4800\n",
            "Epoch 7/10\n",
            "4/4 [==============================] - 2s 509ms/step - loss: -18842.2598 - accuracy: 0.4671 - val_loss: -22876.5293 - val_accuracy: 0.5000\n",
            "Epoch 8/10\n",
            "4/4 [==============================] - 3s 654ms/step - loss: -26486.6758 - accuracy: 0.5000 - val_loss: -33888.0859 - val_accuracy: 0.5000\n",
            "Epoch 9/10\n",
            "4/4 [==============================] - 3s 962ms/step - loss: -37413.5742 - accuracy: 0.5263 - val_loss: -46122.3086 - val_accuracy: 0.5200\n",
            "Epoch 10/10\n",
            "4/4 [==============================] - 3s 661ms/step - loss: -56652.0391 - accuracy: 0.4950 - val_loss: -68428.2891 - val_accuracy: 0.5000\n"
          ]
        },
        {
          "output_type": "stream",
          "name": "stderr",
          "text": [
            "/usr/local/lib/python3.10/dist-packages/keras/src/engine/training.py:3103: UserWarning: You are saving your model as an HDF5 file via `model.save()`. This file format is considered legacy. We recommend using instead the native Keras format, e.g. `model.save('my_model.keras')`.\n",
            "  saving_api.save_model(\n"
          ]
        }
      ],
      "source": [
        "\n",
        "import tensorflow as tf\n",
        "from tensorflow import keras\n",
        "from keras.models import Sequential\n",
        "from keras.layers import Dense,Conv2D, Dropout,Activation,MaxPooling2D,Flatten\n",
        "from keras.optimizers import RMSprop, SGD\n",
        "from keras import regularizers\n",
        "from keras.preprocessing.image import ImageDataGenerator\n",
        "from keras.preprocessing import image\n",
        "\n",
        "#import mlflow\n",
        "\n",
        "\n",
        "ih, iw = 150, 150 #tamano de la imagen\n",
        "input_shape = (ih, iw, 3) #forma de la imagen: alto ancho y numero de canales\n",
        "\n",
        "\n",
        "num_class = 2 #cuantas clases\n",
        "epochs = 10 #cuantas veces entrenar. En cada epoch hace una mejora en los parametros\n",
        "\n",
        "batch_size = 50 #batch para hacer cada entrenamiento. Lee 50 'batch_size' imagenes antes de actualizar los parametros. Las carga a memoria\n",
        "num_train = n_files #numero de imagenes en train\n",
        "num_test =  n_files_test #numero de imagenes en test\n",
        "\n",
        "\n",
        "epoch_steps = num_train // batch_size\n",
        "test_steps = num_test // batch_size\n",
        "\n",
        "print(train_dir)\n",
        "gentrain = ImageDataGenerator(rescale=1. / 255.) #indica que reescale cada canal con valor entre 0 y 1.\n",
        "\n",
        "\n",
        "train = gentrain.flow_from_directory(train_dir,\n",
        "                batch_size=batch_size,\n",
        "                target_size=(iw, ih),\n",
        "                class_mode='binary')\n",
        "\n",
        "\n",
        "print(test_dir)\n",
        "gentest = ImageDataGenerator(rescale=1. / 255)\n",
        "\n",
        "test = gentest.flow_from_directory(test_dir,\n",
        "                batch_size=batch_size,\n",
        "                target_size=(iw, ih),\n",
        "                class_mode='binary')\n",
        "\n",
        "#para cargar pesos de la red desde donde se quedó la ultima vez\n",
        "#filename = \"cvsd.h5\"\n",
        "#model.load_weights(filename)  #comentar si se comienza desde cero.\n",
        "###\n",
        "\n",
        "model = Sequential()\n",
        "model.add(Conv2D(10, (3, 3), input_shape=(ih, iw,3)))\n",
        "model.add(Activation('relu'))\n",
        "model.add(MaxPooling2D(pool_size=(2, 2)))\n",
        "\n",
        "model.add(Conv2D(10, (3, 3)))\n",
        "model.add(Activation('relu'))\n",
        "model.add(MaxPooling2D(pool_size=(2, 2)))\n",
        "\n",
        "model.add(Conv2D(20, (3, 3)))\n",
        "model.add(Activation('relu'))\n",
        "model.add(MaxPooling2D(pool_size=(2, 2)))\n",
        "\n",
        "model.add(Flatten())\n",
        "model.add(Dense(64))\n",
        "model.add(Activation('relu'))\n",
        "model.add(Dropout(0.2))\n",
        "model.add(Dense(1))\n",
        "model.add(Activation('sigmoid'))\n",
        "\n",
        "model.compile(loss='binary_crossentropy',\n",
        "              optimizer='rmsprop',\n",
        "              metrics=['accuracy'])\n",
        "\n",
        "\n",
        "model.fit(      train,\n",
        "                steps_per_epoch=epoch_steps,\n",
        "                epochs=epochs,\n",
        "                validation_data=test,\n",
        "                validation_steps=test_steps\n",
        "                )\n",
        "\n",
        "\n",
        "model.save('cvsd.h5')\n"
      ]
    }
  ]
}